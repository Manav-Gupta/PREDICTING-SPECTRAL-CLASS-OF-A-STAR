{
  "nbformat": 4,
  "nbformat_minor": 0,
  "metadata": {
    "colab": {
      "name": "spectral_class.ipynb",
      "provenance": [],
      "authorship_tag": "ABX9TyNalwi+b7QF8tgLKe5dSaPy",
      "include_colab_link": true
    },
    "kernelspec": {
      "name": "python3",
      "display_name": "Python 3"
    }
  },
  "cells": [
    {
      "cell_type": "markdown",
      "metadata": {
        "id": "view-in-github",
        "colab_type": "text"
      },
      "source": [
        "<a href=\"https://colab.research.google.com/github/Manav-Gupta/spectral_class/blob/main/spectral_class.ipynb\" target=\"_parent\"><img src=\"https://colab.research.google.com/assets/colab-badge.svg\" alt=\"Open In Colab\"/></a>"
      ]
    },
    {
      "cell_type": "code",
      "metadata": {
        "colab": {
          "base_uri": "https://localhost:8080/"
        },
        "id": "XjtPZOjz3ncE",
        "outputId": "622150cc-9ef9-44eb-df99-e8958f0f0bac"
      },
      "source": [
        "#Mounting the drive to access the dataset\r\n",
        "from google.colab import drive\r\n",
        "drive.mount('/content/drive')"
      ],
      "execution_count": 7,
      "outputs": [
        {
          "output_type": "stream",
          "text": [
            "Mounted at /content/drive\n"
          ],
          "name": "stdout"
        }
      ]
    },
    {
      "cell_type": "code",
      "metadata": {
        "id": "tYEiPdYC3y1t"
      },
      "source": [
        "#Importing all the required libraries\r\n",
        "import pandas as pd\r\n",
        "import numpy as np\r\n",
        "import matplotlib.pyplot as plt\r\n",
        "from math import sqrt\r\n",
        "import keras\r\n",
        "from pandas import DataFrame\r\n",
        "import seaborn as sns\r\n",
        "from sklearn.preprocessing import MinMaxScaler\r\n",
        "from sklearn.metrics import mean_squared_error\r\n",
        "from keras.models import Sequential\r\n",
        "from keras.layers import Dense\r\n",
        "from keras.layers import LSTM\r\n",
        "from keras.optimizers import Adam\r\n",
        "from datetime import datetime\r\n",
        "from sklearn.decomposition import PCA\r\n",
        "from sklearn.metrics import precision_score"
      ],
      "execution_count": 8,
      "outputs": []
    },
    {
      "cell_type": "code",
      "metadata": {
        "colab": {
          "base_uri": "https://localhost:8080/",
          "height": 195
        },
        "id": "MSUnlbxS3-iK",
        "outputId": "f6ceb3c0-cb46-4020-bc4d-0fc5d7c23ed6"
      },
      "source": [
        "#Reading the dataset\r\n",
        "dataset=pd.read_csv('drive/My Drive/spectral_class.csv')\r\n",
        "dataset.head(5)"
      ],
      "execution_count": 9,
      "outputs": [
        {
          "output_type": "execute_result",
          "data": {
            "text/html": [
              "<div>\n",
              "<style scoped>\n",
              "    .dataframe tbody tr th:only-of-type {\n",
              "        vertical-align: middle;\n",
              "    }\n",
              "\n",
              "    .dataframe tbody tr th {\n",
              "        vertical-align: top;\n",
              "    }\n",
              "\n",
              "    .dataframe thead th {\n",
              "        text-align: right;\n",
              "    }\n",
              "</style>\n",
              "<table border=\"1\" class=\"dataframe\">\n",
              "  <thead>\n",
              "    <tr style=\"text-align: right;\">\n",
              "      <th></th>\n",
              "      <th>Temperature (K)</th>\n",
              "      <th>Luminosity(L/Lo)</th>\n",
              "      <th>Radius(R/Ro)</th>\n",
              "      <th>Absolute magnitude(Mv)</th>\n",
              "      <th>Star type</th>\n",
              "      <th>Star color</th>\n",
              "      <th>Spectral Class</th>\n",
              "    </tr>\n",
              "  </thead>\n",
              "  <tbody>\n",
              "    <tr>\n",
              "      <th>0</th>\n",
              "      <td>3068</td>\n",
              "      <td>0.002400</td>\n",
              "      <td>0.1700</td>\n",
              "      <td>16.12</td>\n",
              "      <td>0</td>\n",
              "      <td>Red</td>\n",
              "      <td>M</td>\n",
              "    </tr>\n",
              "    <tr>\n",
              "      <th>1</th>\n",
              "      <td>3042</td>\n",
              "      <td>0.000500</td>\n",
              "      <td>0.1542</td>\n",
              "      <td>16.60</td>\n",
              "      <td>0</td>\n",
              "      <td>Red</td>\n",
              "      <td>M</td>\n",
              "    </tr>\n",
              "    <tr>\n",
              "      <th>2</th>\n",
              "      <td>2600</td>\n",
              "      <td>0.000300</td>\n",
              "      <td>0.1020</td>\n",
              "      <td>18.70</td>\n",
              "      <td>0</td>\n",
              "      <td>Red</td>\n",
              "      <td>M</td>\n",
              "    </tr>\n",
              "    <tr>\n",
              "      <th>3</th>\n",
              "      <td>2800</td>\n",
              "      <td>0.000200</td>\n",
              "      <td>0.1600</td>\n",
              "      <td>16.65</td>\n",
              "      <td>0</td>\n",
              "      <td>Red</td>\n",
              "      <td>M</td>\n",
              "    </tr>\n",
              "    <tr>\n",
              "      <th>4</th>\n",
              "      <td>1939</td>\n",
              "      <td>0.000138</td>\n",
              "      <td>0.1030</td>\n",
              "      <td>20.06</td>\n",
              "      <td>0</td>\n",
              "      <td>Red</td>\n",
              "      <td>M</td>\n",
              "    </tr>\n",
              "  </tbody>\n",
              "</table>\n",
              "</div>"
            ],
            "text/plain": [
              "   Temperature (K)  Luminosity(L/Lo)  ...  Star color  Spectral Class\n",
              "0             3068          0.002400  ...         Red               M\n",
              "1             3042          0.000500  ...         Red               M\n",
              "2             2600          0.000300  ...         Red               M\n",
              "3             2800          0.000200  ...         Red               M\n",
              "4             1939          0.000138  ...         Red               M\n",
              "\n",
              "[5 rows x 7 columns]"
            ]
          },
          "metadata": {
            "tags": []
          },
          "execution_count": 9
        }
      ]
    },
    {
      "cell_type": "code",
      "metadata": {
        "colab": {
          "base_uri": "https://localhost:8080/",
          "height": 284
        },
        "id": "hWQZdhaM4DTA",
        "outputId": "93f5478a-784a-4bec-a27c-799f768f0aba"
      },
      "source": [
        "dataset.describe()"
      ],
      "execution_count": 10,
      "outputs": [
        {
          "output_type": "execute_result",
          "data": {
            "text/html": [
              "<div>\n",
              "<style scoped>\n",
              "    .dataframe tbody tr th:only-of-type {\n",
              "        vertical-align: middle;\n",
              "    }\n",
              "\n",
              "    .dataframe tbody tr th {\n",
              "        vertical-align: top;\n",
              "    }\n",
              "\n",
              "    .dataframe thead th {\n",
              "        text-align: right;\n",
              "    }\n",
              "</style>\n",
              "<table border=\"1\" class=\"dataframe\">\n",
              "  <thead>\n",
              "    <tr style=\"text-align: right;\">\n",
              "      <th></th>\n",
              "      <th>Temperature (K)</th>\n",
              "      <th>Luminosity(L/Lo)</th>\n",
              "      <th>Radius(R/Ro)</th>\n",
              "      <th>Absolute magnitude(Mv)</th>\n",
              "      <th>Star type</th>\n",
              "    </tr>\n",
              "  </thead>\n",
              "  <tbody>\n",
              "    <tr>\n",
              "      <th>count</th>\n",
              "      <td>240.000000</td>\n",
              "      <td>240.000000</td>\n",
              "      <td>240.000000</td>\n",
              "      <td>240.000000</td>\n",
              "      <td>240.000000</td>\n",
              "    </tr>\n",
              "    <tr>\n",
              "      <th>mean</th>\n",
              "      <td>10497.462500</td>\n",
              "      <td>107188.361635</td>\n",
              "      <td>237.157781</td>\n",
              "      <td>4.382396</td>\n",
              "      <td>2.500000</td>\n",
              "    </tr>\n",
              "    <tr>\n",
              "      <th>std</th>\n",
              "      <td>9552.425037</td>\n",
              "      <td>179432.244940</td>\n",
              "      <td>517.155763</td>\n",
              "      <td>10.532512</td>\n",
              "      <td>1.711394</td>\n",
              "    </tr>\n",
              "    <tr>\n",
              "      <th>min</th>\n",
              "      <td>1939.000000</td>\n",
              "      <td>0.000080</td>\n",
              "      <td>0.008400</td>\n",
              "      <td>-11.920000</td>\n",
              "      <td>0.000000</td>\n",
              "    </tr>\n",
              "    <tr>\n",
              "      <th>25%</th>\n",
              "      <td>3344.250000</td>\n",
              "      <td>0.000865</td>\n",
              "      <td>0.102750</td>\n",
              "      <td>-6.232500</td>\n",
              "      <td>1.000000</td>\n",
              "    </tr>\n",
              "    <tr>\n",
              "      <th>50%</th>\n",
              "      <td>5776.000000</td>\n",
              "      <td>0.070500</td>\n",
              "      <td>0.762500</td>\n",
              "      <td>8.313000</td>\n",
              "      <td>2.500000</td>\n",
              "    </tr>\n",
              "    <tr>\n",
              "      <th>75%</th>\n",
              "      <td>15055.500000</td>\n",
              "      <td>198050.000000</td>\n",
              "      <td>42.750000</td>\n",
              "      <td>13.697500</td>\n",
              "      <td>4.000000</td>\n",
              "    </tr>\n",
              "    <tr>\n",
              "      <th>max</th>\n",
              "      <td>40000.000000</td>\n",
              "      <td>849420.000000</td>\n",
              "      <td>1948.500000</td>\n",
              "      <td>20.060000</td>\n",
              "      <td>5.000000</td>\n",
              "    </tr>\n",
              "  </tbody>\n",
              "</table>\n",
              "</div>"
            ],
            "text/plain": [
              "       Temperature (K)  Luminosity(L/Lo)  ...  Absolute magnitude(Mv)   Star type\n",
              "count       240.000000        240.000000  ...              240.000000  240.000000\n",
              "mean      10497.462500     107188.361635  ...                4.382396    2.500000\n",
              "std        9552.425037     179432.244940  ...               10.532512    1.711394\n",
              "min        1939.000000          0.000080  ...              -11.920000    0.000000\n",
              "25%        3344.250000          0.000865  ...               -6.232500    1.000000\n",
              "50%        5776.000000          0.070500  ...                8.313000    2.500000\n",
              "75%       15055.500000     198050.000000  ...               13.697500    4.000000\n",
              "max       40000.000000     849420.000000  ...               20.060000    5.000000\n",
              "\n",
              "[8 rows x 5 columns]"
            ]
          },
          "metadata": {
            "tags": []
          },
          "execution_count": 10
        }
      ]
    },
    {
      "cell_type": "code",
      "metadata": {
        "colab": {
          "base_uri": "https://localhost:8080/"
        },
        "id": "X07ioyUB4K7o",
        "outputId": "4aedd4ec-73c6-4382-acc2-68c76281cc17"
      },
      "source": [
        "dataset['Star type'].value_counts()"
      ],
      "execution_count": 11,
      "outputs": [
        {
          "output_type": "execute_result",
          "data": {
            "text/plain": [
              "5    40\n",
              "4    40\n",
              "3    40\n",
              "2    40\n",
              "1    40\n",
              "0    40\n",
              "Name: Star type, dtype: int64"
            ]
          },
          "metadata": {
            "tags": []
          },
          "execution_count": 11
        }
      ]
    },
    {
      "cell_type": "code",
      "metadata": {
        "colab": {
          "base_uri": "https://localhost:8080/"
        },
        "id": "t39L_0Yp4SkS",
        "outputId": "40336743-3559-45ab-d539-a7eb588e799f"
      },
      "source": [
        "#Checking for the NaN values\r\n",
        "dataset.isnull().sum()"
      ],
      "execution_count": 12,
      "outputs": [
        {
          "output_type": "execute_result",
          "data": {
            "text/plain": [
              "Temperature (K)           0\n",
              "Luminosity(L/Lo)          0\n",
              "Radius(R/Ro)              0\n",
              "Absolute magnitude(Mv)    0\n",
              "Star type                 0\n",
              "Star color                0\n",
              "Spectral Class            0\n",
              "dtype: int64"
            ]
          },
          "metadata": {
            "tags": []
          },
          "execution_count": 12
        }
      ]
    },
    {
      "cell_type": "code",
      "metadata": {
        "colab": {
          "base_uri": "https://localhost:8080/"
        },
        "id": "f6lq1AdR4bXR",
        "outputId": "7690e1d9-ab95-4340-b5e8-21f4ab03d86c"
      },
      "source": [
        "#Displaying the spectral classes for the stars present in the dataset\r\n",
        "set(dataset['Spectral Class']) "
      ],
      "execution_count": 13,
      "outputs": [
        {
          "output_type": "execute_result",
          "data": {
            "text/plain": [
              "{'A', 'B', 'F', 'G', 'K', 'M', 'O'}"
            ]
          },
          "metadata": {
            "tags": []
          },
          "execution_count": 13
        }
      ]
    },
    {
      "cell_type": "code",
      "metadata": {
        "colab": {
          "base_uri": "https://localhost:8080/"
        },
        "id": "eGk080d54hiq",
        "outputId": "a320dd6b-4445-4ca0-836a-94a496182dd3"
      },
      "source": [
        "#Displaying the star color which is a combination of 5 colors\r\n",
        "set(dataset['Star color']) "
      ],
      "execution_count": 14,
      "outputs": [
        {
          "output_type": "execute_result",
          "data": {
            "text/plain": [
              "{'Blue',\n",
              " 'Blue ',\n",
              " 'Blue White',\n",
              " 'Blue white',\n",
              " 'Blue white ',\n",
              " 'Blue-White',\n",
              " 'Blue-white',\n",
              " 'Orange',\n",
              " 'Orange-Red',\n",
              " 'Pale yellow orange',\n",
              " 'Red',\n",
              " 'White',\n",
              " 'White-Yellow',\n",
              " 'Whitish',\n",
              " 'Yellowish',\n",
              " 'Yellowish White',\n",
              " 'white',\n",
              " 'yellow-white',\n",
              " 'yellowish'}"
            ]
          },
          "metadata": {
            "tags": []
          },
          "execution_count": 14
        }
      ]
    },
    {
      "cell_type": "code",
      "metadata": {
        "colab": {
          "base_uri": "https://localhost:8080/",
          "height": 195
        },
        "id": "W1k7KG0_4r3h",
        "outputId": "34fc8009-9ee8-42b9-95e6-11431faa3ae0"
      },
      "source": [
        "#Assigning a numerical value to the spectral class\r\n",
        "df=dataset\r\n",
        "df['Spectral Class'] = df['Spectral Class'].map({'O': 0, 'B': 1, 'A': 2, 'F': 3, 'G': 4, 'K': 5, 'M': 6})\r\n",
        "df.head()"
      ],
      "execution_count": 15,
      "outputs": [
        {
          "output_type": "execute_result",
          "data": {
            "text/html": [
              "<div>\n",
              "<style scoped>\n",
              "    .dataframe tbody tr th:only-of-type {\n",
              "        vertical-align: middle;\n",
              "    }\n",
              "\n",
              "    .dataframe tbody tr th {\n",
              "        vertical-align: top;\n",
              "    }\n",
              "\n",
              "    .dataframe thead th {\n",
              "        text-align: right;\n",
              "    }\n",
              "</style>\n",
              "<table border=\"1\" class=\"dataframe\">\n",
              "  <thead>\n",
              "    <tr style=\"text-align: right;\">\n",
              "      <th></th>\n",
              "      <th>Temperature (K)</th>\n",
              "      <th>Luminosity(L/Lo)</th>\n",
              "      <th>Radius(R/Ro)</th>\n",
              "      <th>Absolute magnitude(Mv)</th>\n",
              "      <th>Star type</th>\n",
              "      <th>Star color</th>\n",
              "      <th>Spectral Class</th>\n",
              "    </tr>\n",
              "  </thead>\n",
              "  <tbody>\n",
              "    <tr>\n",
              "      <th>0</th>\n",
              "      <td>3068</td>\n",
              "      <td>0.002400</td>\n",
              "      <td>0.1700</td>\n",
              "      <td>16.12</td>\n",
              "      <td>0</td>\n",
              "      <td>Red</td>\n",
              "      <td>6</td>\n",
              "    </tr>\n",
              "    <tr>\n",
              "      <th>1</th>\n",
              "      <td>3042</td>\n",
              "      <td>0.000500</td>\n",
              "      <td>0.1542</td>\n",
              "      <td>16.60</td>\n",
              "      <td>0</td>\n",
              "      <td>Red</td>\n",
              "      <td>6</td>\n",
              "    </tr>\n",
              "    <tr>\n",
              "      <th>2</th>\n",
              "      <td>2600</td>\n",
              "      <td>0.000300</td>\n",
              "      <td>0.1020</td>\n",
              "      <td>18.70</td>\n",
              "      <td>0</td>\n",
              "      <td>Red</td>\n",
              "      <td>6</td>\n",
              "    </tr>\n",
              "    <tr>\n",
              "      <th>3</th>\n",
              "      <td>2800</td>\n",
              "      <td>0.000200</td>\n",
              "      <td>0.1600</td>\n",
              "      <td>16.65</td>\n",
              "      <td>0</td>\n",
              "      <td>Red</td>\n",
              "      <td>6</td>\n",
              "    </tr>\n",
              "    <tr>\n",
              "      <th>4</th>\n",
              "      <td>1939</td>\n",
              "      <td>0.000138</td>\n",
              "      <td>0.1030</td>\n",
              "      <td>20.06</td>\n",
              "      <td>0</td>\n",
              "      <td>Red</td>\n",
              "      <td>6</td>\n",
              "    </tr>\n",
              "  </tbody>\n",
              "</table>\n",
              "</div>"
            ],
            "text/plain": [
              "   Temperature (K)  Luminosity(L/Lo)  ...  Star color  Spectral Class\n",
              "0             3068          0.002400  ...         Red               6\n",
              "1             3042          0.000500  ...         Red               6\n",
              "2             2600          0.000300  ...         Red               6\n",
              "3             2800          0.000200  ...         Red               6\n",
              "4             1939          0.000138  ...         Red               6\n",
              "\n",
              "[5 rows x 7 columns]"
            ]
          },
          "metadata": {
            "tags": []
          },
          "execution_count": 15
        }
      ]
    },
    {
      "cell_type": "code",
      "metadata": {
        "id": "WnYAjM7m51lx"
      },
      "source": [
        "#Creating attributes for individual colors to separate the contributions of different colors in combinations\r\n",
        "df[['Blue','White','Orange','Red','Yellow']] = 0\r\n",
        "df.loc[df['Star color'].str.contains(\"Blue\",case=False),'Blue']=1\r\n",
        "df.loc[df['Star color'].str.contains(\"Whit\",case=False),'White']=1\r\n",
        "df.loc[df['Star color'].str.contains(\"Red\",case=False),'Red']=1\r\n",
        "df.loc[df['Star color'].str.contains(\"Yellow\",case=False),'Yellow']=1\r\n",
        "df.loc[df['Star color'].str.contains(\"Orange\",case=False),'Orange']=1"
      ],
      "execution_count": 16,
      "outputs": []
    },
    {
      "cell_type": "code",
      "metadata": {
        "colab": {
          "base_uri": "https://localhost:8080/",
          "height": 195
        },
        "id": "3HsYuXkn8PDG",
        "outputId": "284a9efe-8f9d-4921-8245-472c30ae983f"
      },
      "source": [
        "#Dropping the original star color column\r\n",
        "df.drop(labels=['Star color'],axis=1, inplace=True)\r\n",
        "df.head()"
      ],
      "execution_count": 17,
      "outputs": [
        {
          "output_type": "execute_result",
          "data": {
            "text/html": [
              "<div>\n",
              "<style scoped>\n",
              "    .dataframe tbody tr th:only-of-type {\n",
              "        vertical-align: middle;\n",
              "    }\n",
              "\n",
              "    .dataframe tbody tr th {\n",
              "        vertical-align: top;\n",
              "    }\n",
              "\n",
              "    .dataframe thead th {\n",
              "        text-align: right;\n",
              "    }\n",
              "</style>\n",
              "<table border=\"1\" class=\"dataframe\">\n",
              "  <thead>\n",
              "    <tr style=\"text-align: right;\">\n",
              "      <th></th>\n",
              "      <th>Temperature (K)</th>\n",
              "      <th>Luminosity(L/Lo)</th>\n",
              "      <th>Radius(R/Ro)</th>\n",
              "      <th>Absolute magnitude(Mv)</th>\n",
              "      <th>Star type</th>\n",
              "      <th>Spectral Class</th>\n",
              "      <th>Blue</th>\n",
              "      <th>White</th>\n",
              "      <th>Orange</th>\n",
              "      <th>Red</th>\n",
              "      <th>Yellow</th>\n",
              "    </tr>\n",
              "  </thead>\n",
              "  <tbody>\n",
              "    <tr>\n",
              "      <th>0</th>\n",
              "      <td>3068</td>\n",
              "      <td>0.002400</td>\n",
              "      <td>0.1700</td>\n",
              "      <td>16.12</td>\n",
              "      <td>0</td>\n",
              "      <td>6</td>\n",
              "      <td>0</td>\n",
              "      <td>0</td>\n",
              "      <td>0</td>\n",
              "      <td>1</td>\n",
              "      <td>0</td>\n",
              "    </tr>\n",
              "    <tr>\n",
              "      <th>1</th>\n",
              "      <td>3042</td>\n",
              "      <td>0.000500</td>\n",
              "      <td>0.1542</td>\n",
              "      <td>16.60</td>\n",
              "      <td>0</td>\n",
              "      <td>6</td>\n",
              "      <td>0</td>\n",
              "      <td>0</td>\n",
              "      <td>0</td>\n",
              "      <td>1</td>\n",
              "      <td>0</td>\n",
              "    </tr>\n",
              "    <tr>\n",
              "      <th>2</th>\n",
              "      <td>2600</td>\n",
              "      <td>0.000300</td>\n",
              "      <td>0.1020</td>\n",
              "      <td>18.70</td>\n",
              "      <td>0</td>\n",
              "      <td>6</td>\n",
              "      <td>0</td>\n",
              "      <td>0</td>\n",
              "      <td>0</td>\n",
              "      <td>1</td>\n",
              "      <td>0</td>\n",
              "    </tr>\n",
              "    <tr>\n",
              "      <th>3</th>\n",
              "      <td>2800</td>\n",
              "      <td>0.000200</td>\n",
              "      <td>0.1600</td>\n",
              "      <td>16.65</td>\n",
              "      <td>0</td>\n",
              "      <td>6</td>\n",
              "      <td>0</td>\n",
              "      <td>0</td>\n",
              "      <td>0</td>\n",
              "      <td>1</td>\n",
              "      <td>0</td>\n",
              "    </tr>\n",
              "    <tr>\n",
              "      <th>4</th>\n",
              "      <td>1939</td>\n",
              "      <td>0.000138</td>\n",
              "      <td>0.1030</td>\n",
              "      <td>20.06</td>\n",
              "      <td>0</td>\n",
              "      <td>6</td>\n",
              "      <td>0</td>\n",
              "      <td>0</td>\n",
              "      <td>0</td>\n",
              "      <td>1</td>\n",
              "      <td>0</td>\n",
              "    </tr>\n",
              "  </tbody>\n",
              "</table>\n",
              "</div>"
            ],
            "text/plain": [
              "   Temperature (K)  Luminosity(L/Lo)  Radius(R/Ro)  ...  Orange  Red  Yellow\n",
              "0             3068          0.002400        0.1700  ...       0    1       0\n",
              "1             3042          0.000500        0.1542  ...       0    1       0\n",
              "2             2600          0.000300        0.1020  ...       0    1       0\n",
              "3             2800          0.000200        0.1600  ...       0    1       0\n",
              "4             1939          0.000138        0.1030  ...       0    1       0\n",
              "\n",
              "[5 rows x 11 columns]"
            ]
          },
          "metadata": {
            "tags": []
          },
          "execution_count": 17
        }
      ]
    },
    {
      "cell_type": "code",
      "metadata": {
        "id": "4ZaA7Vc12Ekj"
      },
      "source": [
        "#Establishing the test dataset of features\r\n",
        "df1=df.drop(['Spectral Class'],axis=1)"
      ],
      "execution_count": 21,
      "outputs": []
    },
    {
      "cell_type": "code",
      "metadata": {
        "id": "0vnmO_0o8hH0"
      },
      "source": [
        "#Establishing the test dataset for output\r\n",
        "df2=df['Star type'].values"
      ],
      "execution_count": 22,
      "outputs": []
    },
    {
      "cell_type": "code",
      "metadata": {
        "colab": {
          "base_uri": "https://localhost:8080/"
        },
        "id": "jV-ONUFM8ooe",
        "outputId": "aea23ddc-20e0-4544-fcb1-04f4cae195b5"
      },
      "source": [
        "#Scaling data\r\n",
        "scale_x = MinMaxScaler(feature_range=(0,1))\r\n",
        "scaled_x=scale_x.fit_transform(df1)\r\n",
        "print(scaled_x.shape)\r\n",
        "df2=df2.reshape(-1, 1)\r\n",
        "scale_y = MinMaxScaler(feature_range=(0,1))\r\n",
        "scaled_y=scale_y.fit_transform(df2)\r\n",
        "print(scaled_y.shape)\r\n",
        "print(scaled_x)"
      ],
      "execution_count": 23,
      "outputs": [
        {
          "output_type": "stream",
          "text": [
            "(240, 10)\n",
            "(240, 1)\n",
            "[[2.96629095e-02 2.73127546e-09 8.29359490e-05 ... 0.00000000e+00\n",
            "  1.00000000e+00 0.00000000e+00]\n",
            " [2.89797956e-02 4.94455040e-10 7.48271124e-05 ... 0.00000000e+00\n",
            "  1.00000000e+00 0.00000000e+00]\n",
            " [1.73668585e-02 2.59000259e-10 4.80371586e-05 ... 0.00000000e+00\n",
            "  1.00000000e+00 0.00000000e+00]\n",
            " ...\n",
            " [1.81025196e-01 6.32776483e-01 7.30304200e-01 ... 0.00000000e+00\n",
            "  0.00000000e+00 0.00000000e+00]\n",
            " [1.91692283e-01 4.76725295e-01 5.70693556e-01 ... 0.00000000e+00\n",
            "  0.00000000e+00 0.00000000e+00]\n",
            " [9.44352487e-01 3.47181606e-01 9.15062503e-01 ... 0.00000000e+00\n",
            "  0.00000000e+00 0.00000000e+00]]\n"
          ],
          "name": "stdout"
        }
      ]
    },
    {
      "cell_type": "code",
      "metadata": {
        "colab": {
          "base_uri": "https://localhost:8080/"
        },
        "id": "ZxBao29v8qX6",
        "outputId": "272181a3-3383-4c98-f9f5-9a14b0bcff9c"
      },
      "source": [
        "#Converting data into readable format of LSTM for previous 5 timesteps\r\n",
        "x=list()\r\n",
        "y=list()\r\n",
        "ws=5\r\n",
        "for i in range(len(df)-ws):\r\n",
        "  xx=list()\r\n",
        "  for j in range(0,ws-1,1):\r\n",
        "    value=scaled_x[i+j]\r\n",
        "    xx.append(value)\r\n",
        "  x.append(xx)\r\n",
        "  yy=scaled_y[i+ws-1]\r\n",
        "  y.append(yy)\r\n",
        "#Input of  LSTM \r\n",
        "x=np.array(x)\r\n",
        "#Output of LSTM\r\n",
        "y=np.array(y)\r\n",
        "print(x.shape)"
      ],
      "execution_count": 24,
      "outputs": [
        {
          "output_type": "stream",
          "text": [
            "(235, 4, 10)\n"
          ],
          "name": "stdout"
        }
      ]
    },
    {
      "cell_type": "code",
      "metadata": {
        "id": "r1wtbu488tUz"
      },
      "source": [
        "#Splitting data into training 70% , testing 15% and validation 15%\r\n",
        "n_train_hours = 168\r\n",
        "n_valid_hours = 204\r\n",
        "\r\n",
        "train_x = x[:n_train_hours]\r\n",
        "test_x = x[n_valid_hours:]\r\n",
        "valid_x= x[n_train_hours:n_valid_hours]\r\n",
        "\r\n",
        "train_y = y[:n_train_hours]\r\n",
        "test_y = y[n_valid_hours:]\r\n",
        "valid_y= y[n_train_hours:n_valid_hours]"
      ],
      "execution_count": 25,
      "outputs": []
    },
    {
      "cell_type": "code",
      "metadata": {
        "colab": {
          "base_uri": "https://localhost:8080/",
          "height": 1000
        },
        "id": "VnTwilgY8_Rm",
        "outputId": "5e8fd849-7e9a-43e3-9bbc-d801f4039e56"
      },
      "source": [
        "#Declaration of model\r\n",
        "model = Sequential()\r\n",
        "#adding LSTM layer\r\n",
        "model.add(LSTM(64, input_shape=(9,10),kernel_initializer='truncated_normal'))\r\n",
        "model.add(Dense(1,activation='linear'))\r\n",
        "model.compile(loss='categorical_crossentropy', optimizer=Adam(lr=0.001))\r\n",
        "#Training the model\r\n",
        "history = model.fit(train_x, train_y, epochs=150, batch_size=10, validation_data=(valid_x, valid_y), verbose=1, shuffle=False)\r\n",
        "#Plotting the loss graphs\r\n",
        "plt.plot(history.history['loss'], label='train')\r\n",
        "#plt.plot(history.history['val_loss'], label='valid')\r\n",
        "plt.legend()\r\n",
        "plt.show()"
      ],
      "execution_count": 26,
      "outputs": [
        {
          "output_type": "stream",
          "text": [
            "Epoch 1/150\n",
            "WARNING:tensorflow:Model was constructed with shape (None, 9, 10) for input KerasTensor(type_spec=TensorSpec(shape=(None, 9, 10), dtype=tf.float32, name='lstm_input'), name='lstm_input', description=\"created by layer 'lstm_input'\"), but it was called on an input with incompatible shape (None, 4, 10).\n",
            "WARNING:tensorflow:Model was constructed with shape (None, 9, 10) for input KerasTensor(type_spec=TensorSpec(shape=(None, 9, 10), dtype=tf.float32, name='lstm_input'), name='lstm_input', description=\"created by layer 'lstm_input'\"), but it was called on an input with incompatible shape (None, 4, 10).\n",
            "17/17 [==============================] - ETA: 0s - loss: 4.8845e-08 WARNING:tensorflow:Model was constructed with shape (None, 9, 10) for input KerasTensor(type_spec=TensorSpec(shape=(None, 9, 10), dtype=tf.float32, name='lstm_input'), name='lstm_input', description=\"created by layer 'lstm_input'\"), but it was called on an input with incompatible shape (None, 4, 10).\n",
            "17/17 [==============================] - 2s 35ms/step - loss: 4.9364e-08 - val_loss: 4.3710e-08\n",
            "Epoch 2/150\n",
            "17/17 [==============================] - 0s 5ms/step - loss: 4.9364e-08 - val_loss: 4.3710e-08\n",
            "Epoch 3/150\n",
            "17/17 [==============================] - 0s 5ms/step - loss: 4.9364e-08 - val_loss: 4.3710e-08\n",
            "Epoch 4/150\n",
            "17/17 [==============================] - 0s 5ms/step - loss: 4.9364e-08 - val_loss: 4.3710e-08\n",
            "Epoch 5/150\n",
            "17/17 [==============================] - 0s 6ms/step - loss: 4.9364e-08 - val_loss: 4.3710e-08\n",
            "Epoch 6/150\n",
            "17/17 [==============================] - 0s 6ms/step - loss: 4.9364e-08 - val_loss: 4.3710e-08\n",
            "Epoch 7/150\n",
            "17/17 [==============================] - 0s 6ms/step - loss: 4.9364e-08 - val_loss: 4.3710e-08\n",
            "Epoch 8/150\n",
            "17/17 [==============================] - 0s 6ms/step - loss: 4.9364e-08 - val_loss: 4.3710e-08\n",
            "Epoch 9/150\n",
            "17/17 [==============================] - 0s 6ms/step - loss: 4.9364e-08 - val_loss: 4.3710e-08\n",
            "Epoch 10/150\n",
            "17/17 [==============================] - 0s 7ms/step - loss: 4.9364e-08 - val_loss: 4.3710e-08\n",
            "Epoch 11/150\n",
            "17/17 [==============================] - 0s 6ms/step - loss: 4.9364e-08 - val_loss: 4.3710e-08\n",
            "Epoch 12/150\n",
            "17/17 [==============================] - 0s 6ms/step - loss: 4.9364e-08 - val_loss: 4.3710e-08\n",
            "Epoch 13/150\n",
            "17/17 [==============================] - 0s 6ms/step - loss: 4.9364e-08 - val_loss: 4.3710e-08\n",
            "Epoch 14/150\n",
            "17/17 [==============================] - 0s 6ms/step - loss: 4.9364e-08 - val_loss: 4.3710e-08\n",
            "Epoch 15/150\n",
            "17/17 [==============================] - 0s 7ms/step - loss: 4.9364e-08 - val_loss: 4.3710e-08\n",
            "Epoch 16/150\n",
            "17/17 [==============================] - 0s 6ms/step - loss: 4.9364e-08 - val_loss: 4.3710e-08\n",
            "Epoch 17/150\n",
            "17/17 [==============================] - 0s 6ms/step - loss: 4.9364e-08 - val_loss: 4.3710e-08\n",
            "Epoch 18/150\n",
            "17/17 [==============================] - 0s 6ms/step - loss: 4.9364e-08 - val_loss: 4.3710e-08\n",
            "Epoch 19/150\n",
            "17/17 [==============================] - 0s 6ms/step - loss: 4.9364e-08 - val_loss: 4.3710e-08\n",
            "Epoch 20/150\n",
            "17/17 [==============================] - 0s 6ms/step - loss: 4.9364e-08 - val_loss: 4.3710e-08\n",
            "Epoch 21/150\n",
            "17/17 [==============================] - 0s 6ms/step - loss: 4.9364e-08 - val_loss: 4.3710e-08\n",
            "Epoch 22/150\n",
            "17/17 [==============================] - 0s 6ms/step - loss: 4.9364e-08 - val_loss: 4.3710e-08\n",
            "Epoch 23/150\n",
            "17/17 [==============================] - 0s 7ms/step - loss: 4.9364e-08 - val_loss: 4.3710e-08\n",
            "Epoch 24/150\n",
            "17/17 [==============================] - 0s 6ms/step - loss: 4.9364e-08 - val_loss: 4.3710e-08\n",
            "Epoch 25/150\n",
            "17/17 [==============================] - 0s 13ms/step - loss: 4.9364e-08 - val_loss: 4.3710e-08\n",
            "Epoch 26/150\n",
            "17/17 [==============================] - 0s 6ms/step - loss: 4.9364e-08 - val_loss: 4.3710e-08\n",
            "Epoch 27/150\n",
            "17/17 [==============================] - 0s 6ms/step - loss: 4.9364e-08 - val_loss: 4.3710e-08\n",
            "Epoch 28/150\n",
            "17/17 [==============================] - 0s 6ms/step - loss: 4.9364e-08 - val_loss: 4.3710e-08\n",
            "Epoch 29/150\n",
            "17/17 [==============================] - 0s 6ms/step - loss: 4.9364e-08 - val_loss: 4.3710e-08\n",
            "Epoch 30/150\n",
            "17/17 [==============================] - 0s 6ms/step - loss: 4.9364e-08 - val_loss: 4.3710e-08\n",
            "Epoch 31/150\n",
            "17/17 [==============================] - 0s 6ms/step - loss: 4.9364e-08 - val_loss: 4.3710e-08\n",
            "Epoch 32/150\n",
            "17/17 [==============================] - 0s 7ms/step - loss: 4.9364e-08 - val_loss: 4.3710e-08\n",
            "Epoch 33/150\n",
            "17/17 [==============================] - 0s 6ms/step - loss: 4.9364e-08 - val_loss: 4.3710e-08\n",
            "Epoch 34/150\n",
            "17/17 [==============================] - 0s 6ms/step - loss: 4.9364e-08 - val_loss: 4.3710e-08\n",
            "Epoch 35/150\n",
            "17/17 [==============================] - 0s 7ms/step - loss: 4.9364e-08 - val_loss: 4.3710e-08\n",
            "Epoch 36/150\n",
            "17/17 [==============================] - 0s 6ms/step - loss: 4.9364e-08 - val_loss: 4.3710e-08\n",
            "Epoch 37/150\n",
            "17/17 [==============================] - 0s 5ms/step - loss: 4.9364e-08 - val_loss: 4.3710e-08\n",
            "Epoch 38/150\n",
            "17/17 [==============================] - 0s 6ms/step - loss: 4.9364e-08 - val_loss: 4.3710e-08\n",
            "Epoch 39/150\n",
            "17/17 [==============================] - 0s 6ms/step - loss: 4.9364e-08 - val_loss: 4.3710e-08\n",
            "Epoch 40/150\n",
            "17/17 [==============================] - 0s 6ms/step - loss: 4.9364e-08 - val_loss: 4.3710e-08\n",
            "Epoch 41/150\n",
            "17/17 [==============================] - 0s 6ms/step - loss: 4.9364e-08 - val_loss: 4.3710e-08\n",
            "Epoch 42/150\n",
            "17/17 [==============================] - 0s 6ms/step - loss: 4.9364e-08 - val_loss: 4.3710e-08\n",
            "Epoch 43/150\n",
            "17/17 [==============================] - 0s 6ms/step - loss: 4.9364e-08 - val_loss: 4.3710e-08\n",
            "Epoch 44/150\n",
            "17/17 [==============================] - 0s 6ms/step - loss: 4.9364e-08 - val_loss: 4.3710e-08\n",
            "Epoch 45/150\n",
            "17/17 [==============================] - 0s 6ms/step - loss: 4.9364e-08 - val_loss: 4.3710e-08\n",
            "Epoch 46/150\n",
            "17/17 [==============================] - 0s 6ms/step - loss: 4.9364e-08 - val_loss: 4.3710e-08\n",
            "Epoch 47/150\n",
            "17/17 [==============================] - 0s 6ms/step - loss: 4.9364e-08 - val_loss: 4.3710e-08\n",
            "Epoch 48/150\n",
            "17/17 [==============================] - 0s 6ms/step - loss: 4.9364e-08 - val_loss: 4.3710e-08\n",
            "Epoch 49/150\n",
            "17/17 [==============================] - 0s 6ms/step - loss: 4.9364e-08 - val_loss: 4.3710e-08\n",
            "Epoch 50/150\n",
            "17/17 [==============================] - 0s 6ms/step - loss: 4.9364e-08 - val_loss: 4.3710e-08\n",
            "Epoch 51/150\n",
            "17/17 [==============================] - 0s 7ms/step - loss: 4.9364e-08 - val_loss: 4.3710e-08\n",
            "Epoch 52/150\n",
            "17/17 [==============================] - 0s 6ms/step - loss: 4.9364e-08 - val_loss: 4.3710e-08\n",
            "Epoch 53/150\n",
            "17/17 [==============================] - 0s 6ms/step - loss: 4.9364e-08 - val_loss: 4.3710e-08\n",
            "Epoch 54/150\n",
            "17/17 [==============================] - 0s 6ms/step - loss: 4.9364e-08 - val_loss: 4.3710e-08\n",
            "Epoch 55/150\n",
            "17/17 [==============================] - 0s 6ms/step - loss: 4.9364e-08 - val_loss: 4.3710e-08\n",
            "Epoch 56/150\n",
            "17/17 [==============================] - 0s 6ms/step - loss: 4.9364e-08 - val_loss: 4.3710e-08\n",
            "Epoch 57/150\n",
            "17/17 [==============================] - 0s 6ms/step - loss: 4.9364e-08 - val_loss: 4.3710e-08\n",
            "Epoch 58/150\n",
            "17/17 [==============================] - 0s 6ms/step - loss: 4.9364e-08 - val_loss: 4.3710e-08\n",
            "Epoch 59/150\n",
            "17/17 [==============================] - 0s 6ms/step - loss: 4.9364e-08 - val_loss: 4.3710e-08\n",
            "Epoch 60/150\n",
            "17/17 [==============================] - 0s 6ms/step - loss: 4.9364e-08 - val_loss: 4.3710e-08\n",
            "Epoch 61/150\n",
            "17/17 [==============================] - 0s 7ms/step - loss: 4.9364e-08 - val_loss: 4.3710e-08\n",
            "Epoch 62/150\n",
            "17/17 [==============================] - 0s 6ms/step - loss: 4.9364e-08 - val_loss: 4.3710e-08\n",
            "Epoch 63/150\n",
            "17/17 [==============================] - 0s 5ms/step - loss: 4.9364e-08 - val_loss: 4.3710e-08\n",
            "Epoch 64/150\n",
            "17/17 [==============================] - 0s 6ms/step - loss: 4.9364e-08 - val_loss: 4.3710e-08\n",
            "Epoch 65/150\n",
            "17/17 [==============================] - 0s 6ms/step - loss: 4.9364e-08 - val_loss: 4.3710e-08\n",
            "Epoch 66/150\n",
            "17/17 [==============================] - 0s 6ms/step - loss: 4.9364e-08 - val_loss: 4.3710e-08\n",
            "Epoch 67/150\n",
            "17/17 [==============================] - 0s 6ms/step - loss: 4.9364e-08 - val_loss: 4.3710e-08\n",
            "Epoch 68/150\n",
            "17/17 [==============================] - 0s 6ms/step - loss: 4.9364e-08 - val_loss: 4.3710e-08\n",
            "Epoch 69/150\n",
            "17/17 [==============================] - 0s 7ms/step - loss: 4.9364e-08 - val_loss: 4.3710e-08\n",
            "Epoch 70/150\n",
            "17/17 [==============================] - 0s 6ms/step - loss: 4.9364e-08 - val_loss: 4.3710e-08\n",
            "Epoch 71/150\n",
            "17/17 [==============================] - 0s 6ms/step - loss: 4.9364e-08 - val_loss: 4.3710e-08\n",
            "Epoch 72/150\n",
            "17/17 [==============================] - 0s 14ms/step - loss: 4.9364e-08 - val_loss: 4.3710e-08\n",
            "Epoch 73/150\n",
            "17/17 [==============================] - 0s 7ms/step - loss: 4.9364e-08 - val_loss: 4.3710e-08\n",
            "Epoch 74/150\n",
            "17/17 [==============================] - 0s 6ms/step - loss: 4.9364e-08 - val_loss: 4.3710e-08\n",
            "Epoch 75/150\n",
            "17/17 [==============================] - 0s 6ms/step - loss: 4.9364e-08 - val_loss: 4.3710e-08\n",
            "Epoch 76/150\n",
            "17/17 [==============================] - 0s 6ms/step - loss: 4.9364e-08 - val_loss: 4.3710e-08\n",
            "Epoch 77/150\n",
            "17/17 [==============================] - 0s 6ms/step - loss: 4.9364e-08 - val_loss: 4.3710e-08\n",
            "Epoch 78/150\n",
            "17/17 [==============================] - 0s 7ms/step - loss: 4.9364e-08 - val_loss: 4.3710e-08\n",
            "Epoch 79/150\n",
            "17/17 [==============================] - 0s 8ms/step - loss: 4.9364e-08 - val_loss: 4.3710e-08\n",
            "Epoch 80/150\n",
            "17/17 [==============================] - 0s 6ms/step - loss: 4.9364e-08 - val_loss: 4.3710e-08\n",
            "Epoch 81/150\n",
            "17/17 [==============================] - 0s 6ms/step - loss: 4.9364e-08 - val_loss: 4.3710e-08\n",
            "Epoch 82/150\n",
            "17/17 [==============================] - 0s 6ms/step - loss: 4.9364e-08 - val_loss: 4.3710e-08\n",
            "Epoch 83/150\n",
            "17/17 [==============================] - 0s 6ms/step - loss: 4.9364e-08 - val_loss: 4.3710e-08\n",
            "Epoch 84/150\n",
            "17/17 [==============================] - 0s 6ms/step - loss: 4.9364e-08 - val_loss: 4.3710e-08\n",
            "Epoch 85/150\n",
            "17/17 [==============================] - 0s 6ms/step - loss: 4.9364e-08 - val_loss: 4.3710e-08\n",
            "Epoch 86/150\n",
            "17/17 [==============================] - 0s 6ms/step - loss: 4.9364e-08 - val_loss: 4.3710e-08\n",
            "Epoch 87/150\n",
            "17/17 [==============================] - 0s 6ms/step - loss: 4.9364e-08 - val_loss: 4.3710e-08\n",
            "Epoch 88/150\n",
            "17/17 [==============================] - 0s 6ms/step - loss: 4.9364e-08 - val_loss: 4.3710e-08\n",
            "Epoch 89/150\n",
            "17/17 [==============================] - 0s 6ms/step - loss: 4.9364e-08 - val_loss: 4.3710e-08\n",
            "Epoch 90/150\n",
            "17/17 [==============================] - 0s 7ms/step - loss: 4.9364e-08 - val_loss: 4.3710e-08\n",
            "Epoch 91/150\n",
            "17/17 [==============================] - 0s 6ms/step - loss: 4.9364e-08 - val_loss: 4.3710e-08\n",
            "Epoch 92/150\n",
            "17/17 [==============================] - 0s 6ms/step - loss: 4.9364e-08 - val_loss: 4.3710e-08\n",
            "Epoch 93/150\n",
            "17/17 [==============================] - 0s 6ms/step - loss: 4.9364e-08 - val_loss: 4.3710e-08\n",
            "Epoch 94/150\n",
            "17/17 [==============================] - 0s 7ms/step - loss: 4.9364e-08 - val_loss: 4.3710e-08\n",
            "Epoch 95/150\n",
            "17/17 [==============================] - 0s 6ms/step - loss: 4.9364e-08 - val_loss: 4.3710e-08\n",
            "Epoch 96/150\n",
            "17/17 [==============================] - 0s 6ms/step - loss: 4.9364e-08 - val_loss: 4.3710e-08\n",
            "Epoch 97/150\n",
            "17/17 [==============================] - 0s 6ms/step - loss: 4.9364e-08 - val_loss: 4.3710e-08\n",
            "Epoch 98/150\n",
            "17/17 [==============================] - 0s 6ms/step - loss: 4.9364e-08 - val_loss: 4.3710e-08\n",
            "Epoch 99/150\n",
            "17/17 [==============================] - 0s 6ms/step - loss: 4.9364e-08 - val_loss: 4.3710e-08\n",
            "Epoch 100/150\n",
            "17/17 [==============================] - 0s 6ms/step - loss: 4.9364e-08 - val_loss: 4.3710e-08\n",
            "Epoch 101/150\n",
            "17/17 [==============================] - 0s 6ms/step - loss: 4.9364e-08 - val_loss: 4.3710e-08\n",
            "Epoch 102/150\n",
            "17/17 [==============================] - 0s 6ms/step - loss: 4.9364e-08 - val_loss: 4.3710e-08\n",
            "Epoch 103/150\n",
            "17/17 [==============================] - 0s 6ms/step - loss: 4.9364e-08 - val_loss: 4.3710e-08\n",
            "Epoch 104/150\n",
            "17/17 [==============================] - 0s 7ms/step - loss: 4.9364e-08 - val_loss: 4.3710e-08\n",
            "Epoch 105/150\n",
            "17/17 [==============================] - 0s 6ms/step - loss: 4.9364e-08 - val_loss: 4.3710e-08\n",
            "Epoch 106/150\n",
            "17/17 [==============================] - 0s 6ms/step - loss: 4.9364e-08 - val_loss: 4.3710e-08\n",
            "Epoch 107/150\n",
            "17/17 [==============================] - 0s 7ms/step - loss: 4.9364e-08 - val_loss: 4.3710e-08\n",
            "Epoch 108/150\n",
            "17/17 [==============================] - 0s 6ms/step - loss: 4.9364e-08 - val_loss: 4.3710e-08\n",
            "Epoch 109/150\n",
            "17/17 [==============================] - 0s 6ms/step - loss: 4.9364e-08 - val_loss: 4.3710e-08\n",
            "Epoch 110/150\n",
            "17/17 [==============================] - 0s 6ms/step - loss: 4.9364e-08 - val_loss: 4.3710e-08\n",
            "Epoch 111/150\n",
            "17/17 [==============================] - 0s 5ms/step - loss: 4.9364e-08 - val_loss: 4.3710e-08\n",
            "Epoch 112/150\n",
            "17/17 [==============================] - 0s 6ms/step - loss: 4.9364e-08 - val_loss: 4.3710e-08\n",
            "Epoch 113/150\n",
            "17/17 [==============================] - 0s 6ms/step - loss: 4.9364e-08 - val_loss: 4.3710e-08\n",
            "Epoch 114/150\n",
            "17/17 [==============================] - 0s 6ms/step - loss: 4.9364e-08 - val_loss: 4.3710e-08\n",
            "Epoch 115/150\n",
            "17/17 [==============================] - 0s 6ms/step - loss: 4.9364e-08 - val_loss: 4.3710e-08\n",
            "Epoch 116/150\n",
            "17/17 [==============================] - 0s 6ms/step - loss: 4.9364e-08 - val_loss: 4.3710e-08\n",
            "Epoch 117/150\n",
            "17/17 [==============================] - 0s 6ms/step - loss: 4.9364e-08 - val_loss: 4.3710e-08\n",
            "Epoch 118/150\n",
            "17/17 [==============================] - 0s 14ms/step - loss: 4.9364e-08 - val_loss: 4.3710e-08\n",
            "Epoch 119/150\n",
            "17/17 [==============================] - 0s 6ms/step - loss: 4.9364e-08 - val_loss: 4.3710e-08\n",
            "Epoch 120/150\n",
            "17/17 [==============================] - 0s 7ms/step - loss: 4.9364e-08 - val_loss: 4.3710e-08\n",
            "Epoch 121/150\n",
            "17/17 [==============================] - 0s 6ms/step - loss: 4.9364e-08 - val_loss: 4.3710e-08\n",
            "Epoch 122/150\n",
            "17/17 [==============================] - 0s 6ms/step - loss: 4.9364e-08 - val_loss: 4.3710e-08\n",
            "Epoch 123/150\n",
            "17/17 [==============================] - 0s 6ms/step - loss: 4.9364e-08 - val_loss: 4.3710e-08\n",
            "Epoch 124/150\n",
            "17/17 [==============================] - 0s 7ms/step - loss: 4.9364e-08 - val_loss: 4.3710e-08\n",
            "Epoch 125/150\n",
            "17/17 [==============================] - 0s 6ms/step - loss: 4.9364e-08 - val_loss: 4.3710e-08\n",
            "Epoch 126/150\n",
            "17/17 [==============================] - 0s 7ms/step - loss: 4.9364e-08 - val_loss: 4.3710e-08\n",
            "Epoch 127/150\n",
            "17/17 [==============================] - 0s 7ms/step - loss: 4.9364e-08 - val_loss: 4.3710e-08\n",
            "Epoch 128/150\n",
            "17/17 [==============================] - 0s 6ms/step - loss: 4.9364e-08 - val_loss: 4.3710e-08\n",
            "Epoch 129/150\n",
            "17/17 [==============================] - 0s 6ms/step - loss: 4.9364e-08 - val_loss: 4.3710e-08\n",
            "Epoch 130/150\n",
            "17/17 [==============================] - 0s 6ms/step - loss: 4.9364e-08 - val_loss: 4.3710e-08\n",
            "Epoch 131/150\n",
            "17/17 [==============================] - 0s 6ms/step - loss: 4.9364e-08 - val_loss: 4.3710e-08\n",
            "Epoch 132/150\n",
            "17/17 [==============================] - 0s 6ms/step - loss: 4.9364e-08 - val_loss: 4.3710e-08\n",
            "Epoch 133/150\n",
            "17/17 [==============================] - 0s 6ms/step - loss: 4.9364e-08 - val_loss: 4.3710e-08\n",
            "Epoch 134/150\n",
            "17/17 [==============================] - 0s 6ms/step - loss: 4.9364e-08 - val_loss: 4.3710e-08\n",
            "Epoch 135/150\n",
            "17/17 [==============================] - 0s 6ms/step - loss: 4.9364e-08 - val_loss: 4.3710e-08\n",
            "Epoch 136/150\n",
            "17/17 [==============================] - 0s 7ms/step - loss: 4.9364e-08 - val_loss: 4.3710e-08\n",
            "Epoch 137/150\n",
            "17/17 [==============================] - 0s 6ms/step - loss: 4.9364e-08 - val_loss: 4.3710e-08\n",
            "Epoch 138/150\n",
            "17/17 [==============================] - 0s 6ms/step - loss: 4.9364e-08 - val_loss: 4.3710e-08\n",
            "Epoch 139/150\n",
            "17/17 [==============================] - 0s 6ms/step - loss: 4.9364e-08 - val_loss: 4.3710e-08\n",
            "Epoch 140/150\n",
            "17/17 [==============================] - 0s 6ms/step - loss: 4.9364e-08 - val_loss: 4.3710e-08\n",
            "Epoch 141/150\n",
            "17/17 [==============================] - 0s 6ms/step - loss: 4.9364e-08 - val_loss: 4.3710e-08\n",
            "Epoch 142/150\n",
            "17/17 [==============================] - 0s 7ms/step - loss: 4.9364e-08 - val_loss: 4.3710e-08\n",
            "Epoch 143/150\n",
            "17/17 [==============================] - 0s 6ms/step - loss: 4.9364e-08 - val_loss: 4.3710e-08\n",
            "Epoch 144/150\n",
            "17/17 [==============================] - 0s 6ms/step - loss: 4.9364e-08 - val_loss: 4.3710e-08\n",
            "Epoch 145/150\n",
            "17/17 [==============================] - 0s 6ms/step - loss: 4.9364e-08 - val_loss: 4.3710e-08\n",
            "Epoch 146/150\n",
            "17/17 [==============================] - 0s 6ms/step - loss: 4.9364e-08 - val_loss: 4.3710e-08\n",
            "Epoch 147/150\n",
            "17/17 [==============================] - 0s 7ms/step - loss: 4.9364e-08 - val_loss: 4.3710e-08\n",
            "Epoch 148/150\n",
            "17/17 [==============================] - 0s 6ms/step - loss: 4.9364e-08 - val_loss: 4.3710e-08\n",
            "Epoch 149/150\n",
            "17/17 [==============================] - 0s 6ms/step - loss: 4.9364e-08 - val_loss: 4.3710e-08\n",
            "Epoch 150/150\n",
            "17/17 [==============================] - 0s 7ms/step - loss: 4.9364e-08 - val_loss: 4.3710e-08\n"
          ],
          "name": "stdout"
        },
        {
          "output_type": "display_data",
          "data": {
            "image/png": "[encoded data removed]",
            "text/plain": [
              "<Figure size 432x288 with 1 Axes>"
            ]
          },
          "metadata": {
            "tags": [],
            "needs_background": "light"
          }
        }
      ]
    },
    {
      "cell_type": "code",
      "metadata": {
        "id": "ZKtbcrbV9Jol",
        "colab": {
          "base_uri": "https://localhost:8080/"
        },
        "outputId": "d42d9f94-271f-4675-c194-453e76dd7dcd"
      },
      "source": [
        "#Rescaling the data \r\n",
        "import sklearn.metrics as metrics\r\n",
        "yhat = model.predict(test_x)\r\n",
        "\r\n",
        "inv_yhat = scale_y.inverse_transform(yhat)\r\n",
        "\r\n",
        "inv_y = scale_y.inverse_transform(test_y)\r\n",
        "\r\n",
        "#Finding the accuracy with RMSE function\r\n",
        "rmse = sqrt(mean_squared_error(inv_y, inv_yhat))\r\n",
        "print('Test RMSE: %.3f' % rmse)"
      ],
      "execution_count": 29,
      "outputs": [
        {
          "output_type": "stream",
          "text": [
            "Test RMSE: 3.721\n"
          ],
          "name": "stdout"
        }
      ]
    },
    {
      "cell_type": "code",
      "metadata": {
        "id": "L0JBr3Q_9RuH",
        "colab": {
          "base_uri": "https://localhost:8080/"
        },
        "outputId": "5a8e60e7-0389-42da-e396-0f5bf9b1677f"
      },
      "source": [
        "#Finding the accuracy with nRMSE function\r\n",
        "nrmse=rmse/np.mean(inv_y)\r\n",
        "nrmse"
      ],
      "execution_count": 28,
      "outputs": [
        {
          "output_type": "execute_result",
          "data": {
            "text/plain": [
              "0.9693976114739693"
            ]
          },
          "metadata": {
            "tags": []
          },
          "execution_count": 28
        }
      ]
    },
    {
      "cell_type": "code",
      "metadata": {
        "id": "gzFZS2b_XCW5"
      },
      "source": [
        ""
      ],
      "execution_count": null,
      "outputs": []
    }
  ]
}